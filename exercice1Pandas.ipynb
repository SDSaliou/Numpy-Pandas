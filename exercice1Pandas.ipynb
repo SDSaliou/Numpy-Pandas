{
 "cells": [
  {
   "cell_type": "markdown",
   "id": "b00ddc46",
   "metadata": {},
   "source": [
    "# **Dev-Data Pratique : Essentiel Pandas**\n",
    "\n",
    "# <h2 style = \" color: blue\">**Auteur** : Sokhna Diarra </h2>\n",
    "\n",
    "# **Objectifs pédagogiques**\n",
    "- Comprendre les structures de données Series et DataFrame\n",
    "- Savoir importer, explorer, filtrer et transformer des données tabulaires\n",
    "- Appliquer les fonctions d’agrégation, de nettoyage et de jointure \n"
   ]
  },
  {
   "cell_type": "markdown",
   "id": "cfc251b7",
   "metadata": {},
   "source": [
    "<h4 style = \"color : green\"> <b>importation</b> </h4>"
   ]
  },
  {
   "cell_type": "code",
   "execution_count": 1,
   "id": "145d0296",
   "metadata": {},
   "outputs": [],
   "source": [
    "# importer pandas\n",
    "\n",
    "import pandas as pd"
   ]
  },
  {
   "cell_type": "markdown",
   "id": "d43d99fb",
   "metadata": {},
   "source": [
    "\n",
    "## **Partie 1** – Création et lecture de DataFrames \n"
   ]
  },
  {
   "cell_type": "markdown",
   "id": "993b7827",
   "metadata": {},
   "source": [
    "1. Créons une Series manuellement et l'afficher\n"
   ]
  },
  {
   "cell_type": "code",
   "execution_count": 6,
   "id": "b8b4ca5e",
   "metadata": {},
   "outputs": [
    {
     "name": "stdout",
     "output_type": "stream",
     "text": [
      "0    13\n",
      "1    10\n",
      "2     6\n",
      "3     8\n",
      "dtype: int64\n",
      "j    13\n",
      "m    10\n",
      "p     6\n",
      "f     8\n",
      "dtype: int64\n"
     ]
    }
   ],
   "source": [
    "# series sans étiquettes personnalisées (index)\n",
    "series = pd.Series([13, 10, 6, 8])\n",
    "print(series)\n",
    "\n",
    "# avec équittes \n",
    "series_personnalisees = pd.Series([13, 10, 6, 8], index=['j', 'm', 'p', 'f'])\n",
    "print(series_personnalisees)"
   ]
  },
  {
   "cell_type": "markdown",
   "id": "96be968c",
   "metadata": {},
   "source": [
    "2. Créons un DataFrame à partir d'un dictionnaire Python\n"
   ]
  },
  {
   "cell_type": "code",
   "execution_count": 7,
   "id": "97287847",
   "metadata": {},
   "outputs": [
    {
     "name": "stdout",
     "output_type": "stream",
     "text": [
      "       Marque        Modèle  Prix (£)\n",
      "0        Audi     A4 e-tron     35000\n",
      "1    Mercedes  Mercedes-AMG     42000\n",
      "2         BMW    Set BMW i8     39000\n",
      "3  Mitsubishi           ASX     37000\n",
      "4      Hyndai           i20     25000\n"
     ]
    }
   ],
   "source": [
    "# Dictionnaire sur les voitures\n",
    "voitures = {\n",
    "    'Marque' : ['Audi', 'Mercedes', 'BMW', 'Mitsubishi', 'Hyndai'],\n",
    "    'Modèle' : ['A4 e-tron', 'Mercedes-AMG','Set BMW i8', 'ASX', 'i20'],\n",
    "    'Prix (£)'   : [35000, 42000, 39000, 37000, 25000]\n",
    "}\n",
    "\n",
    "# Créer DataFrame\n",
    "df_voitures = pd.DataFrame(voitures)\n",
    "\n",
    "#Affichons\n",
    "print(df_voitures)"
   ]
  },
  {
   "cell_type": "markdown",
   "id": "a2cd02b3",
   "metadata": {},
   "source": [
    "3. Lire un fichier CSV avec pd.read_csv()\n"
   ]
  },
  {
   "cell_type": "code",
   "execution_count": 8,
   "id": "6edf91fc",
   "metadata": {},
   "outputs": [
    {
     "data": {
      "text/html": [
       "<div>\n",
       "<style scoped>\n",
       "    .dataframe tbody tr th:only-of-type {\n",
       "        vertical-align: middle;\n",
       "    }\n",
       "\n",
       "    .dataframe tbody tr th {\n",
       "        vertical-align: top;\n",
       "    }\n",
       "\n",
       "    .dataframe thead th {\n",
       "        text-align: right;\n",
       "    }\n",
       "</style>\n",
       "<table border=\"1\" class=\"dataframe\">\n",
       "  <thead>\n",
       "    <tr style=\"text-align: right;\">\n",
       "      <th></th>\n",
       "      <th>identifiant</th>\n",
       "      <th>email</th>\n",
       "      <th>nom</th>\n",
       "      <th>genre</th>\n",
       "    </tr>\n",
       "  </thead>\n",
       "  <tbody>\n",
       "    <tr>\n",
       "      <th>0</th>\n",
       "      <td>0</td>\n",
       "      <td>LaurentDagenais@rhyta.com</td>\n",
       "      <td>Laurent Dagenais</td>\n",
       "      <td>M</td>\n",
       "    </tr>\n",
       "    <tr>\n",
       "      <th>1</th>\n",
       "      <td>1</td>\n",
       "      <td>GuyMarois@fleckens.hu</td>\n",
       "      <td>Guy Marois</td>\n",
       "      <td>M</td>\n",
       "    </tr>\n",
       "    <tr>\n",
       "      <th>2</th>\n",
       "      <td>2</td>\n",
       "      <td>BeaufortLesage@einrot.com</td>\n",
       "      <td>Beaufort Lesage</td>\n",
       "      <td>M</td>\n",
       "    </tr>\n",
       "    <tr>\n",
       "      <th>3</th>\n",
       "      <td>3</td>\n",
       "      <td>RussellDurand@armyspy.com</td>\n",
       "      <td>Russell Durand</td>\n",
       "      <td>M</td>\n",
       "    </tr>\n",
       "    <tr>\n",
       "      <th>4</th>\n",
       "      <td>4</td>\n",
       "      <td>AlexisRiel@rhyta.com</td>\n",
       "      <td>Alexis Riel</td>\n",
       "      <td>M</td>\n",
       "    </tr>\n",
       "    <tr>\n",
       "      <th>...</th>\n",
       "      <td>...</td>\n",
       "      <td>...</td>\n",
       "      <td>...</td>\n",
       "      <td>...</td>\n",
       "    </tr>\n",
       "    <tr>\n",
       "      <th>223</th>\n",
       "      <td>223</td>\n",
       "      <td>ClaudeDandonneau@jourrapide.com</td>\n",
       "      <td>Claude Dandonneau</td>\n",
       "      <td>F</td>\n",
       "    </tr>\n",
       "    <tr>\n",
       "      <th>224</th>\n",
       "      <td>224</td>\n",
       "      <td>ApollineMichaud@superrito.com</td>\n",
       "      <td>Apolline Michaud</td>\n",
       "      <td>F</td>\n",
       "    </tr>\n",
       "    <tr>\n",
       "      <th>225</th>\n",
       "      <td>225</td>\n",
       "      <td>PascalineBeaudry@rhyta.com</td>\n",
       "      <td>Pascaline Beaudry</td>\n",
       "      <td>F</td>\n",
       "    </tr>\n",
       "    <tr>\n",
       "      <th>226</th>\n",
       "      <td>226</td>\n",
       "      <td>FleurCaouette@jourrapide.com</td>\n",
       "      <td>Fleur Caouette</td>\n",
       "      <td>F</td>\n",
       "    </tr>\n",
       "    <tr>\n",
       "      <th>227</th>\n",
       "      <td>227</td>\n",
       "      <td>FrancisMasse@jourrapide.com</td>\n",
       "      <td>Francis Masse</td>\n",
       "      <td>M</td>\n",
       "    </tr>\n",
       "  </tbody>\n",
       "</table>\n",
       "<p>228 rows × 4 columns</p>\n",
       "</div>"
      ],
      "text/plain": [
       "     identifiant                            email                nom genre\n",
       "0              0        LaurentDagenais@rhyta.com   Laurent Dagenais     M\n",
       "1              1            GuyMarois@fleckens.hu         Guy Marois     M\n",
       "2              2        BeaufortLesage@einrot.com    Beaufort Lesage     M\n",
       "3              3        RussellDurand@armyspy.com     Russell Durand     M\n",
       "4              4             AlexisRiel@rhyta.com        Alexis Riel     M\n",
       "..           ...                              ...                ...   ...\n",
       "223          223  ClaudeDandonneau@jourrapide.com  Claude Dandonneau     F\n",
       "224          224    ApollineMichaud@superrito.com   Apolline Michaud     F\n",
       "225          225       PascalineBeaudry@rhyta.com  Pascaline Beaudry     F\n",
       "226          226     FleurCaouette@jourrapide.com     Fleur Caouette     F\n",
       "227          227      FrancisMasse@jourrapide.com      Francis Masse     M\n",
       "\n",
       "[228 rows x 4 columns]"
      ]
     },
     "execution_count": 8,
     "metadata": {},
     "output_type": "execute_result"
    }
   ],
   "source": [
    "# lire un fichier CSV\n",
    "fichier_csv = pd.read_csv('Clients.csv')\n",
    "\n",
    "fichier_csv"
   ]
  },
  {
   "cell_type": "markdown",
   "id": "3036d7ed",
   "metadata": {},
   "source": [
    "4. Afficher les 5 premières et dernières lignes (head(), tail())\n"
   ]
  },
  {
   "cell_type": "code",
   "execution_count": 9,
   "id": "5c06361f",
   "metadata": {},
   "outputs": [
    {
     "data": {
      "text/html": [
       "<div>\n",
       "<style scoped>\n",
       "    .dataframe tbody tr th:only-of-type {\n",
       "        vertical-align: middle;\n",
       "    }\n",
       "\n",
       "    .dataframe tbody tr th {\n",
       "        vertical-align: top;\n",
       "    }\n",
       "\n",
       "    .dataframe thead th {\n",
       "        text-align: right;\n",
       "    }\n",
       "</style>\n",
       "<table border=\"1\" class=\"dataframe\">\n",
       "  <thead>\n",
       "    <tr style=\"text-align: right;\">\n",
       "      <th></th>\n",
       "      <th>identifiant</th>\n",
       "      <th>email</th>\n",
       "      <th>nom</th>\n",
       "      <th>genre</th>\n",
       "    </tr>\n",
       "  </thead>\n",
       "  <tbody>\n",
       "    <tr>\n",
       "      <th>0</th>\n",
       "      <td>0</td>\n",
       "      <td>LaurentDagenais@rhyta.com</td>\n",
       "      <td>Laurent Dagenais</td>\n",
       "      <td>M</td>\n",
       "    </tr>\n",
       "    <tr>\n",
       "      <th>1</th>\n",
       "      <td>1</td>\n",
       "      <td>GuyMarois@fleckens.hu</td>\n",
       "      <td>Guy Marois</td>\n",
       "      <td>M</td>\n",
       "    </tr>\n",
       "    <tr>\n",
       "      <th>2</th>\n",
       "      <td>2</td>\n",
       "      <td>BeaufortLesage@einrot.com</td>\n",
       "      <td>Beaufort Lesage</td>\n",
       "      <td>M</td>\n",
       "    </tr>\n",
       "    <tr>\n",
       "      <th>3</th>\n",
       "      <td>3</td>\n",
       "      <td>RussellDurand@armyspy.com</td>\n",
       "      <td>Russell Durand</td>\n",
       "      <td>M</td>\n",
       "    </tr>\n",
       "    <tr>\n",
       "      <th>4</th>\n",
       "      <td>4</td>\n",
       "      <td>AlexisRiel@rhyta.com</td>\n",
       "      <td>Alexis Riel</td>\n",
       "      <td>M</td>\n",
       "    </tr>\n",
       "  </tbody>\n",
       "</table>\n",
       "</div>"
      ],
      "text/plain": [
       "   identifiant                      email               nom genre\n",
       "0            0  LaurentDagenais@rhyta.com  Laurent Dagenais     M\n",
       "1            1      GuyMarois@fleckens.hu        Guy Marois     M\n",
       "2            2  BeaufortLesage@einrot.com   Beaufort Lesage     M\n",
       "3            3  RussellDurand@armyspy.com    Russell Durand     M\n",
       "4            4       AlexisRiel@rhyta.com       Alexis Riel     M"
      ]
     },
     "execution_count": 9,
     "metadata": {},
     "output_type": "execute_result"
    }
   ],
   "source": [
    "# affichons les 5 premières lignes : .head()\n",
    "\n",
    "fichier_csv.head()\n"
   ]
  },
  {
   "cell_type": "code",
   "execution_count": 10,
   "id": "84e0becb",
   "metadata": {},
   "outputs": [
    {
     "data": {
      "text/html": [
       "<div>\n",
       "<style scoped>\n",
       "    .dataframe tbody tr th:only-of-type {\n",
       "        vertical-align: middle;\n",
       "    }\n",
       "\n",
       "    .dataframe tbody tr th {\n",
       "        vertical-align: top;\n",
       "    }\n",
       "\n",
       "    .dataframe thead th {\n",
       "        text-align: right;\n",
       "    }\n",
       "</style>\n",
       "<table border=\"1\" class=\"dataframe\">\n",
       "  <thead>\n",
       "    <tr style=\"text-align: right;\">\n",
       "      <th></th>\n",
       "      <th>identifiant</th>\n",
       "      <th>email</th>\n",
       "      <th>nom</th>\n",
       "      <th>genre</th>\n",
       "    </tr>\n",
       "  </thead>\n",
       "  <tbody>\n",
       "    <tr>\n",
       "      <th>223</th>\n",
       "      <td>223</td>\n",
       "      <td>ClaudeDandonneau@jourrapide.com</td>\n",
       "      <td>Claude Dandonneau</td>\n",
       "      <td>F</td>\n",
       "    </tr>\n",
       "    <tr>\n",
       "      <th>224</th>\n",
       "      <td>224</td>\n",
       "      <td>ApollineMichaud@superrito.com</td>\n",
       "      <td>Apolline Michaud</td>\n",
       "      <td>F</td>\n",
       "    </tr>\n",
       "    <tr>\n",
       "      <th>225</th>\n",
       "      <td>225</td>\n",
       "      <td>PascalineBeaudry@rhyta.com</td>\n",
       "      <td>Pascaline Beaudry</td>\n",
       "      <td>F</td>\n",
       "    </tr>\n",
       "    <tr>\n",
       "      <th>226</th>\n",
       "      <td>226</td>\n",
       "      <td>FleurCaouette@jourrapide.com</td>\n",
       "      <td>Fleur Caouette</td>\n",
       "      <td>F</td>\n",
       "    </tr>\n",
       "    <tr>\n",
       "      <th>227</th>\n",
       "      <td>227</td>\n",
       "      <td>FrancisMasse@jourrapide.com</td>\n",
       "      <td>Francis Masse</td>\n",
       "      <td>M</td>\n",
       "    </tr>\n",
       "  </tbody>\n",
       "</table>\n",
       "</div>"
      ],
      "text/plain": [
       "     identifiant                            email                nom genre\n",
       "223          223  ClaudeDandonneau@jourrapide.com  Claude Dandonneau     F\n",
       "224          224    ApollineMichaud@superrito.com   Apolline Michaud     F\n",
       "225          225       PascalineBeaudry@rhyta.com  Pascaline Beaudry     F\n",
       "226          226     FleurCaouette@jourrapide.com     Fleur Caouette     F\n",
       "227          227      FrancisMasse@jourrapide.com      Francis Masse     M"
      ]
     },
     "execution_count": 10,
     "metadata": {},
     "output_type": "execute_result"
    }
   ],
   "source": [
    "#affichons les 5 dernières lignes : .tail()\n",
    "\n",
    "fichier_csv.tail()"
   ]
  },
  {
   "cell_type": "markdown",
   "id": "22b3f13e",
   "metadata": {},
   "source": [
    "5. Afficher les informations générales (info(), shape, dtypes)\n"
   ]
  },
  {
   "cell_type": "markdown",
   "id": "42d3136a",
   "metadata": {},
   "source": [
    "<h4 style= \"color:red\"><b>info</b> : </h4>Permet de vérifier la forme de notre tableau Exemple: <br>\n",
    "            Avec tableau2.shape nous aurons (3,3) : 3 lignes et 3 colonnes"
   ]
  },
  {
   "cell_type": "markdown",
   "id": "cae35d7b",
   "metadata": {},
   "source": [
    "<h4 style= \"color:red\"><b>shape</b> : </h4>Permet de connaitre combien de lignes comportent un data frame ? Et combien de colonnes ? Exemple: <br>\n",
    "            Avec le fichier_csv.shape nous avons (228,4) : 228 lignes et 4 colonnes <br>\n"
   ]
  },
  {
   "cell_type": "code",
   "execution_count": 11,
   "id": "eb15acf1",
   "metadata": {},
   "outputs": [
    {
     "data": {
      "text/plain": [
       "(228, 4)"
      ]
     },
     "execution_count": 11,
     "metadata": {},
     "output_type": "execute_result"
    }
   ],
   "source": [
    "fichier_csv.shape"
   ]
  },
  {
   "cell_type": "markdown",
   "id": "27a6293a",
   "metadata": {},
   "source": [
    "<h4 style= \"color:red\"><b>dtypes</b> : </h4>Permet de connaître les types de chacune de nos variables.<br>\n",
    "            Avec fichier_csv.dtype nous avons <b>int64</b> : entiers de 64 bits, <b>object</b> : en Pandas Objet correspond à une colonne de type chîne de caractères (string)"
   ]
  },
  {
   "cell_type": "code",
   "execution_count": 12,
   "id": "ca9005fb",
   "metadata": {},
   "outputs": [
    {
     "data": {
      "text/plain": [
       "identifiant     int64\n",
       "email          object\n",
       "nom            object\n",
       "genre          object\n",
       "dtype: object"
      ]
     },
     "execution_count": 12,
     "metadata": {},
     "output_type": "execute_result"
    }
   ],
   "source": [
    "fichier_csv.dtypes"
   ]
  },
  {
   "cell_type": "markdown",
   "id": "42835287",
   "metadata": {},
   "source": [
    "\n",
    "## **Partie 2** – Accès aux données et filtrage\n"
   ]
  },
  {
   "cell_type": "markdown",
   "id": "6007a318",
   "metadata": {},
   "source": [
    "1. Accéder à une colonne (df[\"col\"]) ou plusieurs (df[[\"col1\", \"col2\"]])\n"
   ]
  },
  {
   "cell_type": "markdown",
   "id": "c5fb3d50",
   "metadata": {},
   "source": [
    "2. Accéder à une ligne par index (loc, iloc)\n"
   ]
  },
  {
   "cell_type": "markdown",
   "id": "ca067634",
   "metadata": {},
   "source": [
    "3. Filtrer les lignes avec une condition logique (df[df[\"col\"] > valeur])\n"
   ]
  },
  {
   "cell_type": "markdown",
   "id": "7a00960a",
   "metadata": {},
   "source": [
    "4. Appliquer plusieurs conditions combinées (&, |)\n"
   ]
  },
  {
   "cell_type": "markdown",
   "id": "267263c4",
   "metadata": {},
   "source": [
    "\n",
    "## **Partie 3** – Nettoyage des données\n"
   ]
  },
  {
   "cell_type": "markdown",
   "id": "41d4320c",
   "metadata": {},
   "source": [
    "1. Détecter et supprimer les doublons (drop_duplicates())\n"
   ]
  },
  {
   "cell_type": "markdown",
   "id": "fd81d7e7",
   "metadata": {},
   "source": [
    "2. Gérer les valeurs manquantes : isna(), fillna(), dropna()\n"
   ]
  },
  {
   "cell_type": "markdown",
   "id": "890ad5e1",
   "metadata": {},
   "source": [
    "3. Modifier les types de colonnes (astype())\n"
   ]
  },
  {
   "cell_type": "markdown",
   "id": "d2ea1dab",
   "metadata": {},
   "source": [
    "4. Renommer les colonnes (rename())\n"
   ]
  },
  {
   "cell_type": "markdown",
   "id": "70ab10f7",
   "metadata": {},
   "source": [
    "\n",
    "## **Partie 4** – Transformation et calculs\n"
   ]
  },
  {
   "cell_type": "markdown",
   "id": "fdfc2b9b",
   "metadata": {},
   "source": [
    "1. Créer une nouvelle colonne à partir d’une opération entre colonnes\n"
   ]
  },
  {
   "cell_type": "markdown",
   "id": "2fa6aabe",
   "metadata": {},
   "source": [
    "2. Appliquer une fonction à une colonne (apply(), lambda)\n"
   ]
  },
  {
   "cell_type": "markdown",
   "id": "256bcc71",
   "metadata": {},
   "source": [
    "3. Grouper les données par catégorie (groupby() + sum(), mean()...)\n"
   ]
  },
  {
   "cell_type": "markdown",
   "id": "5bcdfc25",
   "metadata": {},
   "source": [
    "4. Trier les données par valeurs (sort_values())\n"
   ]
  },
  {
   "cell_type": "markdown",
   "id": "6b98568a",
   "metadata": {},
   "source": [
    "\n",
    "## **Partie 5** – Fusion, jointure et reshape\n"
   ]
  },
  {
   "cell_type": "markdown",
   "id": "8605704c",
   "metadata": {},
   "source": [
    "1. Fusionner deux DataFrames avec merge()\n"
   ]
  },
  {
   "cell_type": "markdown",
   "id": "aa5786b7",
   "metadata": {},
   "source": [
    "2. Concaténer avec concat() (horizontale et verticale)\n"
   ]
  },
  {
   "cell_type": "markdown",
   "id": "ceab434e",
   "metadata": {},
   "source": [
    "3. Transformer les données avec pivot(), melt()\n"
   ]
  },
  {
   "cell_type": "markdown",
   "id": "a9533360",
   "metadata": {},
   "source": [
    "\n",
    "## **Partie 6** – Mini-challenge Pandas\n"
   ]
  },
  {
   "cell_type": "markdown",
   "id": "ccbc3553",
   "metadata": {},
   "source": [
    "Contexte : Analyse d’un jeu de données de ventes (clients, produits, "
   ]
  },
  {
   "cell_type": "markdown",
   "id": "74b547e7",
   "metadata": {},
   "source": [
    "commandes).\n",
    "- Calculer le chiffre d’affaires total et par client\n"
   ]
  },
  {
   "cell_type": "markdown",
   "id": "1a829545",
   "metadata": {},
   "source": [
    "- Afficher les 5 meilleurs clients\n"
   ]
  },
  {
   "cell_type": "markdown",
   "id": "cc3d7c97",
   "metadata": {},
   "source": [
    "- Calculer le panier moyen par commande\n"
   ]
  },
  {
   "cell_type": "markdown",
   "id": "da06693f",
   "metadata": {},
   "source": [
    "- Détecter les produits les moins vendus\n"
   ]
  },
  {
   "cell_type": "markdown",
   "id": "03375c7d",
   "metadata": {},
   "source": [
    "- Produire un DataFrame final prêt à être visualisé"
   ]
  },
  {
   "cell_type": "markdown",
   "id": "47176747",
   "metadata": {},
   "source": []
  }
 ],
 "metadata": {
  "kernelspec": {
   "display_name": "Python 3",
   "language": "python",
   "name": "python3"
  },
  "language_info": {
   "codemirror_mode": {
    "name": "ipython",
    "version": 3
   },
   "file_extension": ".py",
   "mimetype": "text/x-python",
   "name": "python",
   "nbconvert_exporter": "python",
   "pygments_lexer": "ipython3",
   "version": "3.12.4"
  }
 },
 "nbformat": 4,
 "nbformat_minor": 5
}
