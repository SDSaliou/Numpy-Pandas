{
 "cells": [
  {
   "cell_type": "markdown",
   "id": "27692855",
   "metadata": {},
   "source": [
    "# **Dev-Data Pratique : Essentiel NumPy**\n",
    "\n",
    "# <h2 style = \" color: blue\">**Auteur** : Sokhna Diarra </h2>\n",
    "\n",
    "# **Objectifs pédagogiques**\n",
    "- Comprendre la structure des tableaux NumPy (ndarray)\n",
    "- Maîtriser les opérations numériques, logiques et la manipulation de forme\n",
    "- Appliquer NumPy à des problèmes simples de data science\n",
    "\n"
   ]
  },
  {
   "cell_type": "markdown",
   "id": "56c7b081",
   "metadata": {},
   "source": [
    "<h4 style = \"color : green\"> <b>importation</b> </h4>"
   ]
  },
  {
   "cell_type": "code",
   "execution_count": 1,
   "id": "dacf2dbb",
   "metadata": {},
   "outputs": [],
   "source": [
    "# importer numpy\n",
    "import numpy as np"
   ]
  },
  {
   "cell_type": "markdown",
   "id": "ceb8ff4d",
   "metadata": {},
   "source": [
    "## **Partie 1** – Création et exploration de tableaux\n",
    "1. Créons un tableau NumPy contenant les valeurs de 15 à 59\n"
   ]
  },
  {
   "cell_type": "code",
   "execution_count": 124,
   "id": "e4038472",
   "metadata": {},
   "outputs": [
    {
     "data": {
      "text/plain": [
       "array([15, 16, 17, 18, 19, 20, 21, 22, 23, 24, 25, 26, 27, 28, 29, 30, 31,\n",
       "       32, 33, 34, 35, 36, 37, 38, 39, 40, 41, 42, 43, 44, 45, 46, 47, 48,\n",
       "       49, 50, 51, 52, 53, 54, 55, 56, 57, 58, 59])"
      ]
     },
     "execution_count": 124,
     "metadata": {},
     "output_type": "execute_result"
    }
   ],
   "source": [
    "tableau1 = np.arange(15,60)\n",
    "tableau1"
   ]
  },
  {
   "cell_type": "markdown",
   "id": "5a1817e9",
   "metadata": {},
   "source": [
    "2. Créons un tableau 3x3 rempli de 1\n"
   ]
  },
  {
   "cell_type": "code",
   "execution_count": 21,
   "id": "38f071a0",
   "metadata": {},
   "outputs": [
    {
     "data": {
      "text/plain": [
       "array([[1., 1., 1.],\n",
       "       [1., 1., 1.],\n",
       "       [1., 1., 1.]])"
      ]
     },
     "execution_count": 21,
     "metadata": {},
     "output_type": "execute_result"
    }
   ],
   "source": [
    "tableau2 = np.ones((3,3))\n",
    "tableau2"
   ]
  },
  {
   "cell_type": "markdown",
   "id": "844e0c12",
   "metadata": {},
   "source": [
    "3. Créons un tableau 9x9 rempli de 9\n",
    "<h5 style = \"color : green\"> Ici nous allons utiliser <b>full</b> qui permet de spécialiser une valeur </h5>"
   ]
  },
  {
   "cell_type": "code",
   "execution_count": 22,
   "id": "643c516d",
   "metadata": {},
   "outputs": [
    {
     "data": {
      "text/plain": [
       "array([[9, 9, 9, 9, 9, 9, 9, 9, 9],\n",
       "       [9, 9, 9, 9, 9, 9, 9, 9, 9],\n",
       "       [9, 9, 9, 9, 9, 9, 9, 9, 9],\n",
       "       [9, 9, 9, 9, 9, 9, 9, 9, 9],\n",
       "       [9, 9, 9, 9, 9, 9, 9, 9, 9],\n",
       "       [9, 9, 9, 9, 9, 9, 9, 9, 9],\n",
       "       [9, 9, 9, 9, 9, 9, 9, 9, 9],\n",
       "       [9, 9, 9, 9, 9, 9, 9, 9, 9],\n",
       "       [9, 9, 9, 9, 9, 9, 9, 9, 9]])"
      ]
     },
     "execution_count": 22,
     "metadata": {},
     "output_type": "execute_result"
    }
   ],
   "source": [
    "tableau3 = np.full((9,9),9)\n",
    "tableau3"
   ]
  },
  {
   "cell_type": "markdown",
   "id": "54d19ad5",
   "metadata": {},
   "source": [
    "4. Générons un tableau aléatoire (4x5) de valeurs entre 0 et 100\n",
    "<h5 style = \" color: green\" > Utilisons random pour générer un tableau aléatoire et randint pour des valeurs entier </h5>\n"
   ]
  },
  {
   "cell_type": "code",
   "execution_count": 125,
   "id": "ff47a08f",
   "metadata": {},
   "outputs": [
    {
     "data": {
      "text/plain": [
       "array([[ 74,  82,  60,  55,  17],\n",
       "       [ 97,  35,  83,  80,  32],\n",
       "       [ 88,  42,  70,  12, 100],\n",
       "       [ 53,  71,  15,  61,  27]], dtype=int32)"
      ]
     },
     "execution_count": 125,
     "metadata": {},
     "output_type": "execute_result"
    }
   ],
   "source": [
    "tableau4 = np.random.randint(0,101, (4,5))\n",
    "tableau4"
   ]
  },
  {
   "cell_type": "markdown",
   "id": "7ce57c40",
   "metadata": {},
   "source": [
    "5. Afficher les propriétés : shape, dtype, size, ndim\n",
    "   "
   ]
  },
  {
   "cell_type": "markdown",
   "id": "2d7316cc",
   "metadata": {},
   "source": [
    "<h4 style= \"color:red\"><b>shape</b> : </h4>Permet de vérifier la forme de notre tableau Exemple: <br>\n",
    "            Avec tableau2.shape nous aurons (3,3) : 3 lignes et 3 colonnes"
   ]
  },
  {
   "cell_type": "code",
   "execution_count": 49,
   "id": "1411ff8c",
   "metadata": {},
   "outputs": [
    {
     "data": {
      "text/plain": [
       "(3, 3)"
      ]
     },
     "execution_count": 49,
     "metadata": {},
     "output_type": "execute_result"
    }
   ],
   "source": [
    "\n",
    "tableau2.shape\n"
   ]
  },
  {
   "cell_type": "markdown",
   "id": "b72ea26b",
   "metadata": {},
   "source": [
    "<h4 style= \"color:red\"><b>dtype</b> : </h4> Permet de vérifier le type de données de notre tableau exemple :<br>\n",
    "            Avec tableau1.dtype nous aurons int64 : int pour dire que les données sont des entiers et 64 pour dire que les données sont de 64 bits donc int64 = entiers de 64 bits \n",
    "            \n"
   ]
  },
  {
   "cell_type": "code",
   "execution_count": 52,
   "id": "21538c6c",
   "metadata": {},
   "outputs": [
    {
     "data": {
      "text/plain": [
       "dtype('int64')"
      ]
     },
     "execution_count": 52,
     "metadata": {},
     "output_type": "execute_result"
    }
   ],
   "source": [
    "tableau1.dtype"
   ]
  },
  {
   "cell_type": "markdown",
   "id": "850810b5",
   "metadata": {},
   "source": [
    "<h4 style= \"color:red\"><b>size</b> : </h4>Renvoie le nombre d'éléments le long d'un axe donné. Exemple :<br>\n",
    "            Avec tableau4.size nous avons 20 éléments : 4*5"
   ]
  },
  {
   "cell_type": "code",
   "execution_count": 56,
   "id": "ac07eb4f",
   "metadata": {},
   "outputs": [
    {
     "data": {
      "text/plain": [
       "20"
      ]
     },
     "execution_count": 56,
     "metadata": {},
     "output_type": "execute_result"
    }
   ],
   "source": [
    "tableau4.size"
   ]
  },
  {
   "cell_type": "markdown",
   "id": "44fd7b31",
   "metadata": {},
   "source": [
    "<h4 style= \"color:red\"><b>ndim</b> : </h4> Renvoie le nombre de dimensions d'un tableau. Exemple : <br>\n",
    "                Avec tableau1.size nous aurons 1 car tableau1 est un tableau 1D. Mais avec tableau2.size nous aurons 2 qui veut dire que tableau2 est un tableau 2D."
   ]
  },
  {
   "cell_type": "code",
   "execution_count": 64,
   "id": "6d0f840c",
   "metadata": {},
   "outputs": [
    {
     "name": "stdout",
     "output_type": "stream",
     "text": [
      "Pour tableau1 : 1 Et pour tableau2 : 2\n"
     ]
    }
   ],
   "source": [
    "print(\"Pour tableau1 :\",tableau1.ndim, \"Et pour tableau2 :\",tableau2.ndim)"
   ]
  },
  {
   "cell_type": "markdown",
   "id": "98e6adfc",
   "metadata": {},
   "source": [
    "## **Partie 2** – Indexation et slicing\n"
   ]
  },
  {
   "cell_type": "markdown",
   "id": "fa8fa722",
   "metadata": {},
   "source": [
    "1. Extraire les 3 premiers éléments d’un tableau 1D\n"
   ]
  },
  {
   "cell_type": "code",
   "execution_count": 35,
   "id": "2585d1a5",
   "metadata": {},
   "outputs": [
    {
     "name": "stdout",
     "output_type": "stream",
     "text": [
      "Les 3 premiers éléments du tableau 1D ( [13 10  6  8] ) sont :  [13 10  6]\n"
     ]
    }
   ],
   "source": [
    "# créer un tableau de 1D simple\n",
    "tableau1D = np.array([13,10,6,8])\n",
    "\n",
    "# maintenant nous allons extraire les 3 premiers éléments\n",
    "trois_premiers_elements = tableau1D[:3]\n",
    "print(\"Les 3 premiers éléments du tableau 1D (\" , tableau1D , \") sont : \", trois_premiers_elements)"
   ]
  },
  {
   "cell_type": "markdown",
   "id": "e0e153bc",
   "metadata": {},
   "source": [
    "2. Extraire la 2e ligne d’un tableau 2D\n"
   ]
  },
  {
   "cell_type": "code",
   "execution_count": 40,
   "id": "c93dde06",
   "metadata": {},
   "outputs": [
    {
     "name": "stdout",
     "output_type": "stream",
     "text": [
      "La deuxiéme ligne du tableau 2D ( [[ 6 15  6  3 17]\n",
      " [ 1 15 16 18 17]\n",
      " [11  9 14 10  3]\n",
      " [10  2  3 19  6]] ) est :  [ 1 15 16 18 17]\n"
     ]
    }
   ],
   "source": [
    "# créer un tableau de 2D simple avec des valeurs aléatoire comprises entre 1 et 20 (nous avons 4 lignes et 5 colonnes)\n",
    "tableau2D = np.random.randint(1,20, (4,5))\n",
    "\n",
    "# maintenant nous allons extraire la 2e ligne du tableau\n",
    "deuxieme_ligne = tableau2D[1]\n",
    "print(\"La deuxiéme ligne du tableau 2D (\" , tableau2D , \") est : \", deuxieme_ligne)"
   ]
  },
  {
   "cell_type": "markdown",
   "id": "d84b0dd7",
   "metadata": {},
   "source": [
    "3. Extraire la 1ère colonne d’un tableau 2D\n"
   ]
  },
  {
   "cell_type": "code",
   "execution_count": null,
   "id": "63a83570",
   "metadata": {},
   "outputs": [
    {
     "name": "stdout",
     "output_type": "stream",
     "text": [
      "La premiere colonne du tableau 2D ( [[ 6 15  6  3 17]\n",
      " [ 1 15 16 18 17]\n",
      " [11  9 14 10  3]\n",
      " [10  2  3 19  6]] ) est :  [ 6  1 11 10]\n"
     ]
    }
   ],
   "source": [
    "# nous allons extraire la 1ère colonne du tableau \n",
    "premiere_colonne = tableau2D[0:,0]\n",
    "print(\"La premiere colonne du tableau 2D (\" , tableau2D , \") est : \", premiere_colonne)"
   ]
  },
  {
   "cell_type": "markdown",
   "id": "f3a99e51",
   "metadata": {},
   "source": [
    "4. Modifier une ligne du tableau (remplacer la 3ème par des zéros)\n"
   ]
  },
  {
   "cell_type": "code",
   "execution_count": 68,
   "id": "397971ec",
   "metadata": {},
   "outputs": [
    {
     "name": "stdout",
     "output_type": "stream",
     "text": [
      "[[ 6 15  6  3 17]\n",
      " [ 1 15 16 18 17]\n",
      " [ 0  0  0  0  0]\n",
      " [10  2  3 19  6]]\n"
     ]
    }
   ],
   "source": [
    "# nous allons remplaçer toute la ligne 3 par zéros\n",
    "tableau2D[2] =0\n",
    "print(tableau2D)"
   ]
  },
  {
   "cell_type": "markdown",
   "id": "305f8875",
   "metadata": {},
   "source": [
    "## Partie 3 – Opérations mathématiques\n"
   ]
  },
  {
   "cell_type": "markdown",
   "id": "21b25da4",
   "metadata": {},
   "source": [
    "1. Appliquer +, -, *, / sur deux tableaux identiques\n"
   ]
  },
  {
   "cell_type": "code",
   "execution_count": 87,
   "id": "a1bc80e1",
   "metadata": {},
   "outputs": [
    {
     "name": "stdout",
     "output_type": "stream",
     "text": [
      "L'application de : \n",
      "Pour +\n",
      " [[ 2  4  6]\n",
      " [ 8 10 12]] \n",
      "Pour  -\n",
      " [[0 0 0]\n",
      " [0 0 0]] \n",
      "Pour * \n",
      " [[ 1  4  9]\n",
      " [16 25 36]] \n",
      "Pour / \n",
      " [[1. 1. 1.]\n",
      " [1. 1. 1.]]\n"
     ]
    }
   ],
   "source": [
    "# créons deux tableaux identiques\n",
    "tab1 = np.array([[1,2,3],[4,5,6]])\n",
    "tab2 = np.array([[1,2,3],[4,5,6]])\n",
    "\n",
    "# Pour + \n",
    "som = tab1 + tab2\n",
    "\n",
    "# Pour -\n",
    "diff = tab1 - tab2\n",
    "\n",
    "# Pour * (élément par élément)\n",
    "prod = tab1 * tab2\n",
    "\n",
    "# Pour / (élément par élément)\n",
    "div = tab1 / tab2\n",
    "\n",
    "print(\"L'application de : \\nPour +\\n\",som ,\"\\nPour  -\\n\",diff,\"\\nPour * \\n\",prod ,\"\\nPour / \\n\",div)\n"
   ]
  },
  {
   "cell_type": "markdown",
   "id": "ed5b86df",
   "metadata": {},
   "source": [
    "2. Calculons : moyenne, somme, écart-type, maximum\n"
   ]
  },
  {
   "cell_type": "code",
   "execution_count": 79,
   "id": "d1eb32a3",
   "metadata": {},
   "outputs": [
    {
     "name": "stdout",
     "output_type": "stream",
     "text": [
      "Moyenne de tab1 est:  3.5\n",
      "Somme de tab1 est:  21\n",
      "Ecart-type de tab1 est:  1.707825127659933\n",
      "Maximum de tab1 est:  6\n"
     ]
    }
   ],
   "source": [
    "# Moyenne avec mean\n",
    "print(\"Moyenne de tab1 est: \", np.mean(tab1))\n",
    "\n",
    "# Somme avec sum\n",
    "print(\"Somme de tab1 est: \", np.sum(tab1))\n",
    "\n",
    "# L'écart-type avec std\n",
    "print(\"Ecart-type de tab1 est: \", np.std(tab1))\n",
    "\n",
    "#Le maximum avec max\n",
    "print(\"Maximum de tab1 est: \", np.max(tab1))"
   ]
  },
  {
   "cell_type": "markdown",
   "id": "1d91cb6c",
   "metadata": {},
   "source": [
    "3. Créons un masque pour filtrer les valeurs supérieures à 50\n"
   ]
  },
  {
   "cell_type": "code",
   "execution_count": 88,
   "id": "ed6de376",
   "metadata": {},
   "outputs": [
    {
     "name": "stdout",
     "output_type": "stream",
     "text": [
      "Avec le tableau : \n",
      " [[ 15  58  71  77  23  69]\n",
      " [ 53 143 107  41  98 115]\n",
      " [ 68  84 115  23  78  53]\n",
      " [ 65  23  64 106 125 130]\n",
      " [ 65 101  86  49  56   6]] \n",
      "nous avons filtré les valeurs supérieures à 50 :\n",
      " [ 58  71  77  69  53 143 107  98 115  68  84 115  78  53  65  64 106 125\n",
      " 130  65 101  86  56]\n"
     ]
    }
   ],
   "source": [
    "# Créons le tableau\n",
    "tab = np.random.randint(1,150, (5,6))\n",
    "\n",
    "#Créons le masque\n",
    "masque = tab > 50\n",
    "\n",
    "# En fin filtrons avant d'afficher\n",
    "filtrer = tab[masque]\n",
    "\n",
    "# Affichage \n",
    "print (\"Avec le tableau : \\n\", tab, \"\\nnous avons filtré les valeurs supérieures à 50 :\\n\", filtrer)"
   ]
  },
  {
   "cell_type": "markdown",
   "id": "2e04c506",
   "metadata": {},
   "source": [
    "4. Appliquons une fonction personnalisée à tous les éléments (lambda + np.vectorize)\n"
   ]
  },
  {
   "cell_type": "code",
   "execution_count": 94,
   "id": "5c3386d7",
   "metadata": {},
   "outputs": [
    {
     "name": "stdout",
     "output_type": "stream",
     "text": [
      "Le tableau : \n",
      " [[ -4   3   0 -11   8]\n",
      " [ 12  -9   5   2 -16]\n",
      " [  7  14 -20   1  10]\n",
      " [ -1  -2  19  -6   4]\n",
      " [ 18  15 -13   6  -7]] \n",
      "devient : \n",
      " [[ 4  6  0 22  8]\n",
      " [12 18 10  2 16]\n",
      " [14 14 20  2 10]\n",
      " [ 2  2 38  6  4]\n",
      " [18 30 26  6 14]]\n"
     ]
    }
   ],
   "source": [
    "# Prenons un tab de 5*5 avec des nombres paires, impaires, positifs et négatifs\n",
    "tab4 = np.array([[ -4,   3,   0, -11,   8],\n",
    "    [ 12,  -9,   5,   2, -16],\n",
    "    [  7,  14, -20,   1,  10],\n",
    "    [ -1,  -2,  19,  -6,   4],\n",
    "    [ 18,  15, -13,   6,  -7]])\n",
    "\n",
    "#Créons une fonction personnalisée avec lambda\n",
    "fonction_perso_lambda = lambda x: abs(2 *x) if x%2!=0 else abs(x) \n",
    "\n",
    "#appliquons la fonction personnalisée à chaque élément du tableau\n",
    "tab4_modifie = np.vectorize(fonction_perso_lambda)(tab4)\n",
    "\n",
    "# Afficher\n",
    "print(\"Le tableau : \\n\", tab4 ,\"\\ndevient : \\n\", tab4_modifie)"
   ]
  },
  {
   "cell_type": "markdown",
   "id": "e0191bdb",
   "metadata": {},
   "source": [
    "## Partie 4 – Reshape et fusion\n"
   ]
  },
  {
   "cell_type": "markdown",
   "id": "2147fe32",
   "metadata": {},
   "source": [
    "1. Transformons un tableau 1D en 2D (5x2 puis 2x5)\n"
   ]
  },
  {
   "cell_type": "code",
   "execution_count": 99,
   "id": "8c46e9ae",
   "metadata": {},
   "outputs": [
    {
     "name": "stdout",
     "output_type": "stream",
     "text": [
      "Le tableau 1D :\n",
      " [ 1  2  3  4  5  6  7  8  9 10]\n",
      "\n",
      "Transformé en 2D 5x2 donne :\n",
      " [[ 1  2]\n",
      " [ 3  4]\n",
      " [ 5  6]\n",
      " [ 7  8]\n",
      " [ 9 10]]\n",
      "\n",
      "Et en 2D 2x5 donne :\n",
      " [[ 1  2  3  4  5]\n",
      " [ 6  7  8  9 10]]\n"
     ]
    }
   ],
   "source": [
    "#créons un tableau 1D avec ses éléments égal au nombre total d'éléments du reshape\n",
    "tab1D = np.arange(1,11)\n",
    "\n",
    "#Transformons en 2D 5x2\n",
    "tab1D_en_5x2 = np.reshape(tab1D, (5,2))\n",
    "\n",
    "#Transformons en 2D 2x5\n",
    "tab1D_en_2x5 = tab1D.reshape(2,5)\n",
    "\n",
    "# Affichons\n",
    "print(\"Le tableau 1D :\\n\", tab1D)\n",
    "print(\"\\nTransformé en 2D 5x2 donne :\\n\", tab1D_en_5x2)\n",
    "print(\"\\nEt en 2D 2x5 donne :\\n\", tab1D_en_2x5)"
   ]
  },
  {
   "cell_type": "markdown",
   "id": "f89a4b21",
   "metadata": {},
   "source": [
    "2. Fusionnons deux tableaux avec vstack() et hstack()\n"
   ]
  },
  {
   "cell_type": "code",
   "execution_count": 112,
   "id": "6d2a7a46",
   "metadata": {},
   "outputs": [
    {
     "name": "stdout",
     "output_type": "stream",
     "text": [
      "tabA: [[1 3]\n",
      " [2 6]] \n",
      "Et tabB [[5 7]\n",
      " [4 8]] \n",
      "fusionnés verticalement :\n",
      "  [[1 3]\n",
      " [2 6]\n",
      " [5 7]\n",
      " [4 8]]\n",
      "\n",
      "tabA: [[1 3]\n",
      " [2 6]] \n",
      "Et tabB [[5 7]\n",
      " [4 8]] \n",
      "fusionnés horizontalement :\n",
      "  [[1 3 5 7]\n",
      " [2 6 4 8]]\n"
     ]
    }
   ],
   "source": [
    "# Prenons tabA et tabB\n",
    "tabA = np.array([[1,3],[2,6]])\n",
    "tabB = np.array([[5,7],[4,8]])\n",
    "\n",
    "# Fusionner avec vstack() signifie : les empiler verticalement \n",
    "fusion_vertical = np.vstack((tabA, tabB))\n",
    "print(\"tabA:\",tabA, \"\\nEt tabB\", tabB, \"\\nfusionnés verticalement :\\n \", fusion_vertical)\n",
    "\n",
    "# Fusionner avec hstack() signifie : les empiler horizontalement \n",
    "fusion_horizontal = np.hstack((tabA, tabB))\n",
    "print(\"\\ntabA:\",tabA, \"\\nEt tabB\", tabB, \"\\nfusionnés horizontalement :\\n \", fusion_horizontal)"
   ]
  },
  {
   "cell_type": "markdown",
   "id": "d6c93645",
   "metadata": {},
   "source": [
    "3. Empiler des tableaux avec np.concatenate() (axis 0 et 1)\n",
    "**A savoir**: \n",
    "a1, a2, … séquence de type tableau\n",
    "Les tableaux doivent avoir la même forme, sauf dans la dimension correspondant à l'axe (le premier, par défaut).\n",
    "\n",
    "axe int, facultatif\n",
    "L'axe le long duquel les tableaux seront joints. Si l'axe est défini sur « Aucun », les tableaux sont aplatis avant utilisation. La valeur par défaut est 0.\n",
    "\n",
    "sortie ndarray, facultatif\n",
    "Si fourni, la destination du résultat. La forme doit être correcte et correspondre à celle que concatenate aurait renvoyée si aucun argument de sortie n'avait été spécifié.\n",
    "\n",
    "dtype str ou dtype\n",
    "Si fourni, le tableau de destination aura ce type de données. Ne peut pas être fourni avec out .\n",
    "\n"
   ]
  },
  {
   "cell_type": "code",
   "execution_count": 113,
   "id": "c31a739d",
   "metadata": {},
   "outputs": [
    {
     "name": "stdout",
     "output_type": "stream",
     "text": [
      "L'axe 0 : \n",
      " [[1 3]\n",
      " [2 6]\n",
      " [5 7]\n",
      " [4 8]] \n",
      "L'axe 1 : \n",
      " [[1 3 5 7]\n",
      " [2 6 4 8]]\n"
     ]
    }
   ],
   "source": [
    "# Prenons tabA et tabB\n",
    "tabA\n",
    "tabB\n",
    "\n",
    "# joindre une séquence de tableaux\n",
    "tab_join0 = np.concatenate((tabA,tabB), axis=0)\n",
    "tab_join1 = np.concatenate((tabA,tabB), axis=1)\n",
    "\n",
    "#afficher\n",
    "print (\"L'axe 0 : \\n\",tab_join0,\"\\nL'axe 1 : \\n\",tab_join1)"
   ]
  },
  {
   "cell_type": "markdown",
   "id": "2cd8ceed",
   "metadata": {},
   "source": [
    "## Partie 5 – Mini-challenge\n"
   ]
  },
  {
   "cell_type": "markdown",
   "id": "f6a5aa28",
   "metadata": {},
   "source": [
    "Contexte : Simulation de notes de 6 étudiants sur 5 matières.\n"
   ]
  },
  {
   "cell_type": "markdown",
   "id": "fe553c35",
   "metadata": {},
   "source": [
    "- Créer un tableau notes de taille (6, 5) avec des valeurs entre 0 et 20\n"
   ]
  },
  {
   "cell_type": "markdown",
   "id": "ff01c438",
   "metadata": {},
   "source": [
    "- Calculer la moyenne par étudiant\n"
   ]
  },
  {
   "cell_type": "markdown",
   "id": "75672d9c",
   "metadata": {},
   "source": [
    "- Calculer la moyenne par matière\n"
   ]
  },
  {
   "cell_type": "markdown",
   "id": "105d22ba",
   "metadata": {},
   "source": [
    "- Afficher les étudiants avec moyenne > 12\n"
   ]
  },
  {
   "cell_type": "markdown",
   "id": "1ae77cdd",
   "metadata": {},
   "source": [
    "- Normaliser les notes (valeurs entre 0 et 1)\n"
   ]
  },
  {
   "cell_type": "markdown",
   "id": "1fe371e9",
   "metadata": {},
   "source": []
  },
  {
   "cell_type": "code",
   "execution_count": 123,
   "id": "6cae9343",
   "metadata": {},
   "outputs": [
    {
     "name": "stdout",
     "output_type": "stream",
     "text": [
      "Les notes sont :\n",
      " [[15 10 19 18 13]\n",
      " [ 9  4 20  6 18]\n",
      " [17  1 12 11 19]\n",
      " [12 17  8  3  2]\n",
      " [19  6 15  9  6]\n",
      " [19  9 14 13 11]]\n",
      "La moyenne par étudiant est : \n",
      " [15.  11.4 12.   8.4 11.  13.2]\n",
      "La moyenne par matière est : \n",
      " [15.16666667  7.83333333 14.66666667 10.         11.5       ]\n",
      "Les étudiants avec une moyenne supérieure à 12 sont : \n",
      " [15.  13.2]\n",
      "Les notes normalisées :\n",
      " [[0.73684211 0.47368421 0.94736842 0.89473684 0.63157895]\n",
      " [0.42105263 0.15789474 1.         0.26315789 0.89473684]\n",
      " [0.84210526 0.         0.57894737 0.52631579 0.94736842]\n",
      " [0.57894737 0.84210526 0.36842105 0.10526316 0.05263158]\n",
      " [0.94736842 0.26315789 0.73684211 0.42105263 0.26315789]\n",
      " [0.94736842 0.42105263 0.68421053 0.63157895 0.52631579]]\n"
     ]
    }
   ],
   "source": [
    "# Créons un tableau notes (6,5) valeurs compris entre 0 et 20\n",
    "notes = np.random.randint(0,21,(6,5))\n",
    "print(\"Les notes sont :\\n\", notes)\n",
    "\n",
    "#Calculons la moyenne par étudiant (ligne) axe 1 signifie ligne (vu avec concatenate)\n",
    "moyenne_par_etudiant = np.mean(notes, axis=1)\n",
    "print(\"La moyenne par étudiant est : \\n\", moyenne_par_etudiant)\n",
    "\n",
    "#Calculons la moyenne par matière (colonne) axe 0 signifie colonne\n",
    "moyenne_par_matiere = np.mean(notes, axis=0)\n",
    "print(\"La moyenne par matière est : \\n\", moyenne_par_matiere)\n",
    "\n",
    "#Affichons les étudiants avec moyenne > 12\n",
    "moyenne_sup12 = moyenne_par_etudiant[moyenne_par_etudiant >12]\n",
    "print(\"Les étudiants avec une moyenne supérieure à 12 sont : \\n\", moyenne_sup12)\n",
    "\n",
    "\n",
    "#Normalisons les notes (valeurs entre 0 et 1)\n",
    "notes_normalisees = (notes - np.min(notes)) / (np.max(notes) - np.min(notes))\n",
    "print(\"Les notes normalisées :\\n\", notes_normalisees)"
   ]
  }
 ],
 "metadata": {
  "kernelspec": {
   "display_name": "Python 3 (ipykernel)",
   "language": "python",
   "name": "python3"
  },
  "language_info": {
   "codemirror_mode": {
    "name": "ipython",
    "version": 3
   },
   "file_extension": ".py",
   "mimetype": "text/x-python",
   "name": "python",
   "nbconvert_exporter": "python",
   "pygments_lexer": "ipython3",
   "version": "3.9.13"
  }
 },
 "nbformat": 4,
 "nbformat_minor": 5
}
